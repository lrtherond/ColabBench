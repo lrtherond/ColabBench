{
  "cells": [
    {
      "cell_type": "markdown",
      "metadata": {
        "id": "3IGr7-SPuivC"
      },
      "source": [
        "# **Nougat** : Neural Optical Understanding for Academic Documents\n",
        "\n",
        "## Lukas Blecher et al. [Paper](https://arxiv.org/pdf/2308.13418.pdf), [Project](https://facebookresearch.github.io/nougat/)\n",
        "\n"
      ]
    },
    {
      "cell_type": "code",
      "source": [
        "from google.colab import drive\n",
        "drive.mount('/content/drive')"
      ],
      "metadata": {
        "colab": {
          "base_uri": "https://localhost:8080/"
        },
        "id": "PU-74RJIOhUx",
        "outputId": "d7bfa7ab-d4ca-4d32-8bc7-51b87cecdef2"
      },
      "execution_count": null,
      "outputs": [
        {
          "output_type": "stream",
          "name": "stdout",
          "text": [
            "Mounted at /content/drive\n"
          ]
        }
      ]
    },
    {
      "cell_type": "markdown",
      "metadata": {
        "id": "o1psC42ludfh"
      },
      "source": [
        "### Installing the required libraries"
      ]
    },
    {
      "cell_type": "code",
      "execution_count": null,
      "metadata": {
        "id": "VTVyJd43TJjh",
        "colab": {
          "base_uri": "https://localhost:8080/"
        },
        "outputId": "ef4bc428-b9bc-4ba2-8d76-e7cd1c60ec2c"
      },
      "outputs": [
        {
          "output_type": "stream",
          "name": "stdout",
          "text": [
            "\u001b[2K     \u001b[90m━━━━━━━━━━━━━━━━━━━━━━━━━━━━━━━━━━━━━━━━\u001b[0m \u001b[32m82.2/82.2 kB\u001b[0m \u001b[31m2.1 MB/s\u001b[0m eta \u001b[36m0:00:00\u001b[0m\n",
            "\u001b[2K     \u001b[90m━━━━━━━━━━━━━━━━━━━━━━━━━━━━━━━━━━━━━━━━\u001b[0m \u001b[32m7.6/7.6 MB\u001b[0m \u001b[31m50.7 MB/s\u001b[0m eta \u001b[36m0:00:00\u001b[0m\n",
            "\u001b[2K     \u001b[90m━━━━━━━━━━━━━━━━━━━━━━━━━━━━━━━━━━━━━━\u001b[0m \u001b[32m431.5/431.5 kB\u001b[0m \u001b[31m45.4 MB/s\u001b[0m eta \u001b[36m0:00:00\u001b[0m\n",
            "\u001b[2K     \u001b[90m━━━━━━━━━━━━━━━━━━━━━━━━━━━━━━━━━━━━━━\u001b[0m \u001b[32m138.7/138.7 kB\u001b[0m \u001b[31m17.2 MB/s\u001b[0m eta \u001b[36m0:00:00\u001b[0m\n",
            "\u001b[2K     \u001b[90m━━━━━━━━━━━━━━━━━━━━━━━━━━━━━━━━━━━━━━\u001b[0m \u001b[32m519.6/519.6 kB\u001b[0m \u001b[31m55.4 MB/s\u001b[0m eta \u001b[36m0:00:00\u001b[0m\n",
            "\u001b[2K     \u001b[90m━━━━━━━━━━━━━━━━━━━━━━━━━━━━━━━━━━━━━━━━\u001b[0m \u001b[32m1.9/1.9 MB\u001b[0m \u001b[31m76.1 MB/s\u001b[0m eta \u001b[36m0:00:00\u001b[0m\n",
            "\u001b[2K     \u001b[90m━━━━━━━━━━━━━━━━━━━━━━━━━━━━━━━━━━━━━━━━\u001b[0m \u001b[32m1.3/1.3 MB\u001b[0m \u001b[31m86.8 MB/s\u001b[0m eta \u001b[36m0:00:00\u001b[0m\n",
            "\u001b[2K     \u001b[90m━━━━━━━━━━━━━━━━━━━━━━━━━━━━━━━━━━━━━━\u001b[0m \u001b[32m276.3/276.3 kB\u001b[0m \u001b[31m33.8 MB/s\u001b[0m eta \u001b[36m0:00:00\u001b[0m\n",
            "\u001b[2K     \u001b[90m━━━━━━━━━━━━━━━━━━━━━━━━━━━━━━━━━━━━━━━━\u001b[0m \u001b[32m3.0/3.0 MB\u001b[0m \u001b[31m109.9 MB/s\u001b[0m eta \u001b[36m0:00:00\u001b[0m\n",
            "\u001b[2K     \u001b[90m━━━━━━━━━━━━━━━━━━━━━━━━━━━━━━━━━━━━━━━━\u001b[0m \u001b[32m66.4/66.4 kB\u001b[0m \u001b[31m9.7 MB/s\u001b[0m eta \u001b[36m0:00:00\u001b[0m\n",
            "\u001b[2K     \u001b[90m━━━━━━━━━━━━━━━━━━━━━━━━━━━━━━━━━━━━━━━━\u001b[0m \u001b[32m71.3/71.3 kB\u001b[0m \u001b[31m10.5 MB/s\u001b[0m eta \u001b[36m0:00:00\u001b[0m\n",
            "\u001b[2K     \u001b[90m━━━━━━━━━━━━━━━━━━━━━━━━━━━━━━━━━━━━━━━━\u001b[0m \u001b[32m66.3/66.3 kB\u001b[0m \u001b[31m8.7 MB/s\u001b[0m eta \u001b[36m0:00:00\u001b[0m\n",
            "\u001b[2K     \u001b[90m━━━━━━━━━━━━━━━━━━━━━━━━━━━━━━━━━━━━━━\u001b[0m \u001b[32m693.9/693.9 kB\u001b[0m \u001b[31m59.6 MB/s\u001b[0m eta \u001b[36m0:00:00\u001b[0m\n",
            "\u001b[2K     \u001b[90m━━━━━━━━━━━━━━━━━━━━━━━━━━━━━━━━━━━━━━━━\u001b[0m \u001b[32m45.7/45.7 kB\u001b[0m \u001b[31m6.2 MB/s\u001b[0m eta \u001b[36m0:00:00\u001b[0m\n",
            "\u001b[2K     \u001b[90m━━━━━━━━━━━━━━━━━━━━━━━━━━━━━━━━━━━━━━━━\u001b[0m \u001b[32m69.9/69.9 kB\u001b[0m \u001b[31m10.5 MB/s\u001b[0m eta \u001b[36m0:00:00\u001b[0m\n",
            "\u001b[2K     \u001b[90m━━━━━━━━━━━━━━━━━━━━━━━━━━━━━━━━━━━━━━\u001b[0m \u001b[32m805.2/805.2 kB\u001b[0m \u001b[31m67.6 MB/s\u001b[0m eta \u001b[36m0:00:00\u001b[0m\n",
            "\u001b[2K     \u001b[90m━━━━━━━━━━━━━━━━━━━━━━━━━━━━━━━━━━━━━━━━\u001b[0m \u001b[32m59.5/59.5 kB\u001b[0m \u001b[31m8.6 MB/s\u001b[0m eta \u001b[36m0:00:00\u001b[0m\n",
            "\u001b[2K     \u001b[90m━━━━━━━━━━━━━━━━━━━━━━━━━━━━━━━━━━━━━━\u001b[0m \u001b[32m129.9/129.9 kB\u001b[0m \u001b[31m17.0 MB/s\u001b[0m eta \u001b[36m0:00:00\u001b[0m\n",
            "\u001b[2K     \u001b[90m━━━━━━━━━━━━━━━━━━━━━━━━━━━━━━━━━━━━━━\u001b[0m \u001b[32m727.7/727.7 kB\u001b[0m \u001b[31m61.9 MB/s\u001b[0m eta \u001b[36m0:00:00\u001b[0m\n",
            "\u001b[2K     \u001b[90m━━━━━━━━━━━━━━━━━━━━━━━━━━━━━━━━━━━━━━\u001b[0m \u001b[32m112.3/112.3 kB\u001b[0m \u001b[31m14.8 MB/s\u001b[0m eta \u001b[36m0:00:00\u001b[0m\n",
            "\u001b[2K     \u001b[90m━━━━━━━━━━━━━━━━━━━━━━━━━━━━━━━━━━━━━━\u001b[0m \u001b[32m295.0/295.0 kB\u001b[0m \u001b[31m36.7 MB/s\u001b[0m eta \u001b[36m0:00:00\u001b[0m\n",
            "\u001b[2K     \u001b[90m━━━━━━━━━━━━━━━━━━━━━━━━━━━━━━━━━━━━━━━━\u001b[0m \u001b[32m7.8/7.8 MB\u001b[0m \u001b[31m117.2 MB/s\u001b[0m eta \u001b[36m0:00:00\u001b[0m\n",
            "\u001b[2K     \u001b[90m━━━━━━━━━━━━━━━━━━━━━━━━━━━━━━━━━━━━━━━━\u001b[0m \u001b[32m1.3/1.3 MB\u001b[0m \u001b[31m86.8 MB/s\u001b[0m eta \u001b[36m0:00:00\u001b[0m\n",
            "\u001b[2K     \u001b[90m━━━━━━━━━━━━━━━━━━━━━━━━━━━━━━━━━━━━━━\u001b[0m \u001b[32m115.3/115.3 kB\u001b[0m \u001b[31m17.0 MB/s\u001b[0m eta \u001b[36m0:00:00\u001b[0m\n",
            "\u001b[2K     \u001b[90m━━━━━━━━━━━━━━━━━━━━━━━━━━━━━━━━━━━━━━\u001b[0m \u001b[32m194.1/194.1 kB\u001b[0m \u001b[31m26.3 MB/s\u001b[0m eta \u001b[36m0:00:00\u001b[0m\n",
            "\u001b[2K     \u001b[90m━━━━━━━━━━━━━━━━━━━━━━━━━━━━━━━━━━━━━━\u001b[0m \u001b[32m134.8/134.8 kB\u001b[0m \u001b[31m19.1 MB/s\u001b[0m eta \u001b[36m0:00:00\u001b[0m\n",
            "\u001b[2K     \u001b[90m━━━━━━━━━━━━━━━━━━━━━━━━━━━━━━━━━━━━━━\u001b[0m \u001b[32m172.9/172.9 kB\u001b[0m \u001b[31m23.9 MB/s\u001b[0m eta \u001b[36m0:00:00\u001b[0m\n",
            "\u001b[2K     \u001b[90m━━━━━━━━━━━━━━━━━━━━━━━━━━━━━━━━━━━━━━━━\u001b[0m \u001b[32m3.1/3.1 MB\u001b[0m \u001b[31m109.1 MB/s\u001b[0m eta \u001b[36m0:00:00\u001b[0m\n",
            "\u001b[2K     \u001b[90m━━━━━━━━━━━━━━━━━━━━━━━━━━━━━━━━━━━━━━━━\u001b[0m \u001b[32m67.0/67.0 kB\u001b[0m \u001b[31m10.6 MB/s\u001b[0m eta \u001b[36m0:00:00\u001b[0m\n",
            "\u001b[2K     \u001b[90m━━━━━━━━━━━━━━━━━━━━━━━━━━━━━━━━━━━━━━━━\u001b[0m \u001b[32m58.4/58.4 kB\u001b[0m \u001b[31m7.1 MB/s\u001b[0m eta \u001b[36m0:00:00\u001b[0m\n",
            "\u001b[2K     \u001b[90m━━━━━━━━━━━━━━━━━━━━━━━━━━━━━━━━━━━━━━━━\u001b[0m \u001b[32m58.3/58.3 kB\u001b[0m \u001b[31m8.4 MB/s\u001b[0m eta \u001b[36m0:00:00\u001b[0m\n",
            "\u001b[2K     \u001b[90m━━━━━━━━━━━━━━━━━━━━━━━━━━━━━━━━━━━━━━\u001b[0m \u001b[32m485.6/485.6 kB\u001b[0m \u001b[31m54.1 MB/s\u001b[0m eta \u001b[36m0:00:00\u001b[0m\n",
            "\u001b[?25h"
          ]
        }
      ],
      "source": [
        "!pip install nougat-ocr -q"
      ]
    },
    {
      "cell_type": "markdown",
      "metadata": {
        "id": "DHGxzqdmkbVf"
      },
      "source": [
        "### Download a sample PDF file"
      ]
    },
    {
      "cell_type": "code",
      "execution_count": null,
      "metadata": {
        "id": "RMsn4EE1j9Gl"
      },
      "outputs": [],
      "source": [
        "import os\n",
        "import requests\n",
        "\n",
        "\n",
        "def get_pdf(pdf_link):\n",
        "    \"\"\"Download a PDF from a given link and save it to a local folder.\"\"\"\n",
        "\n",
        "    # Send a GET request to the PDF link\n",
        "    response = requests.get(pdf_link)\n",
        "\n",
        "    if response.status_code == 200:\n",
        "        # Save the PDF content to a local file\n",
        "        with open(\"input/nougat.pdf\", 'wb') as pdf_file:\n",
        "            pdf_file.write(response.content)\n",
        "        print(\"PDF downloaded successfully.\")\n",
        "    else:\n",
        "        print(\"Failed to download the PDF.\")\n",
        "\n",
        "if not os.path.exists(\"input\"):\n",
        "    os.mkdir(\"input\")"
      ]
    },
    {
      "cell_type": "markdown",
      "metadata": {
        "id": "ghKR79CknBcP"
      },
      "source": [
        "### Downloading model weights"
      ]
    },
    {
      "cell_type": "code",
      "execution_count": null,
      "metadata": {
        "id": "y88ZxhOVaOXt",
        "colab": {
          "base_uri": "https://localhost:8080/"
        },
        "outputId": "c8c7640e-baa8-4790-9ce8-cc7630003de1"
      },
      "outputs": [
        {
          "output_type": "stream",
          "name": "stdout",
          "text": [
            "downloading nougat checkpoint version 0.1.0-small to path nougat\n"
          ]
        },
        {
          "output_type": "stream",
          "name": "stderr",
          "text": [
            "config.json: 100%|██████████| 557/557 [00:00<00:00, 780kb/s]\n",
            "pytorch_model.bin: 100%|██████████| 956M/956M [00:58<00:00, 17.1Mb/s]\n",
            "special_tokens_map.json: 100%|██████████| 96.0/96.0 [00:00<00:00, 161kb/s]\n",
            "tokenizer.json: 100%|██████████| 2.04M/2.04M [00:00<00:00, 18.4Mb/s]\n",
            "tokenizer_config.json: 100%|██████████| 106/106 [00:00<00:00, 263kb/s]\n"
          ]
        }
      ],
      "source": [
        "from nougat.utils.checkpoint import get_checkpoint\n",
        "CHECKPOINT = get_checkpoint('nougat')"
      ]
    },
    {
      "cell_type": "markdown",
      "metadata": {
        "id": "BUG9t33OpKao"
      },
      "source": [
        "### Writing inference functions"
      ]
    },
    {
      "cell_type": "code",
      "execution_count": null,
      "metadata": {
        "id": "OGRpNZkFzyz1"
      },
      "outputs": [],
      "source": [
        "import re\n",
        "import requests\n",
        "import subprocess\n",
        "import uuid\n",
        "\n",
        "def nougat_ocr(file_name):\n",
        "    \"\"\"Run nougat OCR on the given PDF file.\"\"\"\n",
        "    cli_command = [\n",
        "        'nougat',\n",
        "        '--out', 'output',\n",
        "        'pdf', file_name,\n",
        "        '--checkpoint', CHECKPOINT,\n",
        "        '--markdown'\n",
        "    ]\n",
        "    subprocess.run(cli_command, stdout=subprocess.PIPE, stderr=subprocess.PIPE, text=True)\n",
        "\n",
        "\n",
        "def paper_read(pdf_file_name):\n",
        "    nougat_ocr(pdf_file_name)\n",
        "\n",
        "    file_name = pdf_file_name.split('/')[-1][:-4]\n",
        "    with open(f'output/{file_name}.mmd', 'r') as file:\n",
        "        content = file.read()\n",
        "\n",
        "    return content\n"
      ]
    },
    {
      "cell_type": "code",
      "source": [
        "content = paper_read('/content/drive/My Drive/AI/Franc/dataset/D1/raw/C24.pdf')"
      ],
      "metadata": {
        "id": "D2Hkw8IdUQC1"
      },
      "execution_count": null,
      "outputs": []
    },
    {
      "cell_type": "code",
      "source": [
        "content"
      ],
      "metadata": {
        "colab": {
          "base_uri": "https://localhost:8080/",
          "height": 165
        },
        "id": "ZixH7_lFUrZD",
        "outputId": "69aa12de-ac4d-4393-a05e-e955a6a80c13"
      },
      "execution_count": null,
      "outputs": [
        {
          "output_type": "execute_result",
          "data": {
            "text/plain": [
              "'## Chapter 2 Increasing VO2max\\n\\nMost runners and running coaches believe that it is essential to build a base of strength, aerobic capacity, and fitness prior to embarking on a rigorous training program. A popular conception is that this base should include gradually increasing distance, most of which is conducted at easy to moderate tempos. It is generally believed that a runner\\'s body is not yet ready for high-quality work during an early, base portion of the training year and thus must be gradually acclimated to higher volume and intensity. The easy running is thought to provide a foundation of strength and serve as an upgrade of aerobic fitness that helps smooth the transition into higher-quality effort.[1] However, evidence shows that this traditional approach and its alleged benefits may not be optimal for improving VO2max and running-specific strength.\\n\\n## 3 Weaknesses of Traditional Approaches to Base Training\\n\\nIn their book _Better Training for Distance Runners_, David Martin and Peter Coe suggest that base periods should contain \"sizable volumes of continuous, longer-distance running at below race pace for any of the middle- and long-distance running events.\"Martin and Coe indicate that base running should be \"conversational\" in nature--slow enough to permit easy talking during a workout. They recommend a base training intensity of between 55 and 75 percent of VO2max, which would be well below marathon pace for most runners, and they even provide a method for runners to use to determine whether their training speeds fall within this range of intensities. Martin and Coe caution against running faster than 75 percent of VO2max during a base period because such effort \"causes the beginning of anaerobic glycolytic activity, which may mark the beginning of lactic-acid accumulation that is not appropriate for training emphasis in this zone.\" No evidence is provided to demonstrate that lactic-acid accumulation is counterproductive during base periods, however.\\n\\nIn his book _Daniels\\' Running Formula_, coach and exercise physiologist Jack Daniels indicates that base training, which he calls \"phase-one\" work, should consist of easy running plus a few strides (i.e., brief intervals of accelerated running) regardless of whether one is a middle- or long-distance runner.[3] For Daniels, an optimal duration for a base period is about 6 weeks, and the easy running performed during such a period is believed to foster \"cell adaptation and injury prevention.\"[7] Unfortunately, Daniels cites no research that documents optimal cellular adaptation and enhanced injury prevention with this approach compared with other forms of base training that include higher-quality running or strength training.\\n\\nCoach Arthur Lydiard was also a proponent of base periods that keep intensity at a moderate level while gradually increasing mileage.[4] Lydiard\\'s theory was that such running improves runners\\' aerobic capacities dramatically by enhancing cardiac output, increasing aerobic enzyme concentrations inside muscle cells, and expanding the number of capillaries around individual muscle cells. Capillaries are the tiniest blood vessels in a runner\\'s body; they are the components of the cardiovascular system that actually deliver oxygen to working muscle fibers. Lydiard eschewed fast running during base periods, believing that such efforts promoted the production of lactic acid--his favorite muscle nemesis--with consequent damage to muscle cells. As discussed in chapter 7, scientific research reveals that lactic acid does not actually harm muscle fibers.\\n\\nCell adaptation, prevention of future injuries, increased cardiac output, advanced aerobic enzyme concentrations, and greater capillarization appear to be appropriate--if limited--goals to aim for during base periods. Scientific research indicates that such changes would at least improve VO2max and thus place subsequent running training on a higher plain of fitness.\\n\\nThere are two basic problems with these approaches, however. First, running science has not been kind to the traditional idea that easy training intensities are optimal for VO2max improvement during base periods. Second, these approaches represent old-school thinking with the focus of training centered almost entirely on cardiovascular and oxygen-usage development and almost no emphasis placed on neuromuscular progress, that is, the ability of the nervous system to recruit the leg muscles in ways that enhance coordination and quickness and thus boost maximal running speed. It is difficult to comprehend why this critically important, latter process should be ignored.\\n\\n## Aerobic Development\\n\\nThrough Capillary Growth\\n\\nTo fully understand the impact of different types of base training on VO2max improvement, it is important to examine research that pertains to aerobic development during base periods. In 1934 exercise scientists were first able to show that endurance training increases capillary densities within animal muscles; the same effect was finally observed in human subjects in the 1970s.[5] This important capillary adaptation was apparent when scientists measured either the number of capillaries per muscle fiber or the density of capillaries per square millimeter of muscle tissue, and investigators estimated that the additional capillaries that sprung up around muscle cells as a result of training could spike intramuscular blood flow by 50 to 200 percent.[6] While this study was completed with rodents, the changes are likely similar in humans. This would have a profound impact on \\\\(\\\\mathrm{\\\\SIUnitSymbolO}_{2}\\\\mathrm{max}\\\\) by increasing the rate of delivery of oxygen to muscles.\\n\\nAlthough new capillary growth is often considered to be one of the slower adaptive processes associated with endurance training, an interesting finding was that capillaries began to proliferate _around_ muscles even before the sinews exhibited increased concentrations of _intracellular_ aerobic enzymes in response to training.[7] The discovery that new capillary growth is a relatively quick process carried with it the implication that many weeks of steady, moderate running were not required to boost capillary densities.\\n\\nAdvanced capillary density is usually tightly connected with a burgeoning \\\\(\\\\mathrm{\\\\SIUnitSymbolO}_{2}\\\\mathrm{max}\\\\), and a higher aerobic capacity permits training to be conducted for more prolonged periods and at higher intensities. Both of these outcomes are ideal developments for base training periods that are supposed to prepare runners for tougher times ahead. Since these early studies were conducted, exercise scientists have searched for the best ways to promote optimal capillary growth and produce the greatest upswings in \\\\(\\\\mathrm{\\\\SIUnitSymbolO}_{2}\\\\mathrm{max}\\\\).\\n\\n## Impact of Volume, Frequency, and Intensity\\n\\nMany scientific studies have attempted to sort out the effects of volume, frequency, and intensity of training on \\\\(\\\\mathrm{\\\\SIUnitSymbolO}_{2}\\\\mathrm{max}\\\\). In an important inquiry, Dr. T. Jurimae and his Finnish colleagues asked two groups of university students to engage in 8 weeks of base running training.[8] The total volume of training was identical for the two groups, but the intensities were significantly different. One group of runners carried out their base training at an easy intensity of 140 to 150 heart beats per minute while the second group used a higher intensity of 165 to 175 beats per minute. Average maximum heart rate for both groups was about 200, so the easy-running group worked at approximately 70 to 75 percent of maximum heart rate while the harder-running group trained at 82 to 88 percent.\\n\\nBase periods should improve a runner\\'s physiological status; they should not simply preserve the status quo. The underlying idea in base training is to move forward and prepare for the more strenuous impending training by upgrading basic fitness. As this Finnish study showed, 8 weeks of training at the lower, traditional base intensity (i.e., 70 to 75 percent of maximum heart rate) failed to improve VO\\\\({}_{2}\\\\)max at all; working more intensely (i.e., at 82 to 88 percent of VO\\\\({}_{2}\\\\)max) enhanced VO\\\\({}_{2}\\\\)max significantly. There was no increased risk of injury at the higher intensity. This study suggested that the lower intensities commonly chosen for base training periods are actually poor choices since they had no positive impact on VO\\\\({}_{2}\\\\)max and presumably capillarization, too. This would be especially true for experienced runners who already have relatively high aerobic capacity.\\n\\nAdvocates of easy running during base periods might argue that the lower-intensity group in this Finnish study could have achieved the same VO\\\\({}_{2}\\\\)max spike as the high-quality runners by boosting their volume (i.e., distance run) during the base period. However, the best predictor of injury in endurance runners is the total time spent training.[1] Thus, major increases in distance run during base periods, undertaken in hopes of raising aerobic capacity, might produce a result that is the exact opposite of one of the fundamental goals of base training: Instead of lowering the risk of subsequent injury, such base training might increase the risk of injury.\\n\\nIn a separate study, Glenn Gaesser and Robert Rich of the University of California at Los Angeles asked two groups of healthy young men to initiate base training.[9] All the subjects worked out three times a week for 18 weeks, but a high-intensity group trained for 25 minutes per workout at an intensity of 80 to 85 percent of VO\\\\({}_{2}\\\\)max, while a low-intensity group trained for double the amount of time--50 minutes per session--at an easy intensity of 45 percent of VO\\\\({}_{2}\\\\)max.\\n\\nIn this study, the use of light intensity and the doubling of total training time were not advantageous. After 18 weeks and 1,350 total minutes of training, the high-intensity group had improved VO\\\\({}_{2}\\\\)max by almost 20 percent, while the low-intensity group had upgraded VO\\\\({}_{2}\\\\)max by 17 percent with 2,700 minutes of workouts. In other words, the slow-paced, traditional base training tended to produce less improvement in aerobic capacity than the higher-quality base training even when the low-intensity trainees increased total workout time by 100 percent. This study suggested that traditional base-training plans are inefficient ways to bolster running fitness.\\n\\nKey information about the type of training necessary for VO\\\\({}_{2}\\\\)max expansion during base training periods is also available from studies that have looked at training-related changes in muscle cells\\' aerobic enzyme concentrations. An important discovery through this work is the so-called saturation response, which indicates that there is a specific workout duration beyond which little further stimulus for aerobic enzyme improvement can be created. The research has been carried out with rodents, not humans, but it suggests that about 60 minutes of training per workout represents the saturation point beyond which the postworkout adaptive process will produce no further increases in aerobic enzymes.[10] Shifting from 60 to 90 minutes per session does not increase aerobic enzyme concentrations by 50 percent, nor does changing from 60 to 120 minutes double enzyme levels.\\n\\nThe saturation response strongly implies that such workout expansions will have little effect on aerobic enzyme concentrations.\\n\\nIf a similar effect is present in human runners, the benefits of expanding workout durations beyond 60 minutes during base training periods would be questionable. It is possible that setting the workout duration at about 60 minutes during a base period and then attempting to increase the intensity of effort within that hour might work much more effectively in improving aerobic enzyme concentration, capillary density, and VO2max compared with moving to a 75- to 120-minute workout at a lower intensity.\\n\\n## Improving VO2max Through Intensity\\n\\nResearch suggests that manipulations of intensity--not volume--represent the most powerful ways to upgrade VO2max and capillarization during base periods. In a rigorous investigation,[10] Gary Dudley and his colleagues at the State University of New York at Syracuse made laboratory rats use a variety of different workout durations--from 5 to 90 minutes per day--and a range of training intensities from 40 to 100 percent of VO2max. Dudley and colleagues examined the effects of duration and intensity on VO2max and specifically analyzed how different training modalities influenced fast-, intermediate-, and slow-twitch muscle fibers.\\n\\nAs mentioned, these researchers were able to demonstrate that training for more than 60 minutes per day was without benefit in terms of increasing aerobic enzyme concentrations for all three muscle-cell types. The researchers also concluded that 10 minutes of running per day at an intensity of 100 percent of VO2max were enough to roughly triple aerobic enzyme concentrations in fast-twitch muscle fibers over an 8-week period. In contrast, running for 27 minutes at 85 percent of VO2max increased aerobic enzymes by only 80 percent, while 60 to 90 minutes of daily running at the traditionally preferred base intensity of 70 to 75 percent of VO2max moved enzyme levels up by just 74 percent in fast-twitch cells.\\n\\nIn intermediate muscle cells, which are from a physiological standpoint roughly half-way between fast-twitch and slow-twitch fibers, training intensity also had the most powerful effect on aerobic enzyme improvement. Just 10 minutes of running daily at 100 percent of VO2max increased aerobic enzyme concentrations just as much as running 27 minutes daily at 85 percent of VO2max or 60 to 90 minutes at 70 to 75 percent of VO2max. Presumably, using a workout containing 10 minutes of running at 100 percent of VO2max broken into intervals plus approximately 20 minutes at 70 percent of VO2max would have a far-greater impact on aerobic capacity than the conventional 60 to 90 minutes at 70 to 75 percent of VO2max.\\n\\nFor slow-twitch fibers, running a total of 2,400 minutes (40 hours) at an intensity of 70 to 75 percent of VO2max increased aerobic enzyme concentrations by approximately 40 percent. That change works out to be an improvement of.017 percent per minute of training. Running for a total of 1,080 minutes (18 hours) at 85 percent of VO2max created a 28-percent upturn in aerobic enzyme levels, a change of.026 percent per minute of training. Finally, running fast for 400 minutes (6.67 hours) at close to 100 percent of VO2max expanded aerobic enzymes in slow-twitch cells by 10 percent, a.025-percent per minute rate of improvement. When the change was expressed per minute of training, the two higher intensities were better at upgrading aerobic enzymes, even in the slow-twitch muscle cells, than the lower, traditional base intensity.\\n\\nNote from this study that 38 minutes of running at 85 percent of VO2max would produce a VO2max upswing of 1 percent. To produce a similar change in maximal aerobic capacity, almost one hour of running at 70 to 75 percent of VO2max would be required. If an athlete ran for just 20 minutes at 85 percent of VO2max and for 40 minutes at 70 percent of VO2max for a 1-hour workout, the upward movement on VO2max would be 20 percent greater than running the whole hour at the slower intensity. It\\'s clear from such research that traditional base training is an inefficient way to build an aerobic base, that is, to expand VO2max.\\n\\n## 4 Comparing High-Intensity and Traditional Base Training\\n\\nIt might be argued that conventional base training is nonetheless an effective way to boost running strength and thus decrease the risk of subsequent injury during more intense phases of training, but this contention ignores the fact that the strength gained in training is always velocity specific.[11] Strength acquired at slow speeds does not automatically transfer to faster muscle contraction (e. g, faster running velocities). In this sense, running at easy base speeds provides poor preparation for higher-speed running. There is also no proof that traditional base training periods lower the rate of injury during follow-up training. With their emphasis on increased volume, traditional base periods may actually increase injury rates.\\n\\nRecent research carried out by Mark Tarnopolsky, Martin Gibala, and their colleagues in the department of kinesiology and the department of medicine at McMaster University in Hamilton, Ontario, Canada, suggests that base periods containing significant amounts of high-intensity training are superior to conventional base periods.[12] These researchers became interested in the possibility of relying on high-quality--and even sprint--training during base periods after they examined several scientific studies showing that high-intensity sprint-interval training increases the maximal activity of mitochondrial enzymes.[13, 14, 15] Mitochondrial enzymes are the key chemicals that allow muscle cells to use oxygen at higher rates, thus heightening aerobic capacity, or VO2max.\\n\\nThe research team also noted that high-intensity sprint training tends to produce two key adaptations that are beneficial for endurance runners: a reduced rate of glycogen usage during exercise and a smaller buildup of lactate during strenuous effort. A decrease in the rate at which glycogen is burned during running promotes stamina because more glycogen fuel remains in the tank to be used after any specific duration of effort. A diminished buildup in lactate can indicate that lactate, a key fuel for running, is being used more effectively for energy: It is being broken down quickly instead of accumulating in the muscles and blood.\\n\\nAs if all that were not enough, many studies have shown that high-intensity sprint training upgrades performance during exertions that rely primarily on aerobic metabolism [16, 17]. Finally, sprint intervals improve the buffering capacity of muscles (i.e., the ability to control advances in acidity) [18, 19], an effect that usually promotes better tolerance of high-intensity running and thus greater endurance at intense paces.\\n\\nSuch findings suggest that reasonable amounts of high-intensity work might be optimal during a base-building phase of training, promoting many adaptations that would be tremendously useful during subsequent periods of strenuous training. To put high-intensity base-building to the test, Tarnopolsky, Gibala, and colleagues recruited 16 fairly fit male McMaster University students who normally worked out two to three times a week by running, cycling, or swimming. The average age of the students was 22, mean mass was 172 pounds (78 kg), body mass index was 23 (i.e., they were not overweight or obese), and average VO2max was 52.6 ml \\\\(\\\\bullet\\\\) kg\\\\({}^{\\\\text{-1}}\\\\)\\\\(\\\\bullet\\\\) min-1.\\n\\nAt random, eight of the subjects were assigned to the sprint-training group, and the other eight were placed in an endurance-training group that used the old-fashioned base with moderately paced distance work. All training was carried out on a cycle ergometer. The base training period lasted 2 weeks, and the six total workouts were performed on Monday, Wednesday, and Friday of each week with 1 to 2 recovery days between sessions.\\n\\nThe sprint- and endurance-training bases were incredibly different. For the sprint group, training consisted of 30-second, maximal, all-out intervals, with power outputs soaring as high as 700 Watts and 4 minutes of recovery between intervals; the recovery consisted of either rest or light cycling at an intensity of about 30 Watts. This was done progressively: The subjects completed four maximal intervals during the first and second workouts, five all-out reps during workouts three and four, and six scaling intervals for workouts five and six. Meanwhile, the endurance group started with 90 minutes of work during sessions one and two at the modest intensity of 65 percent of VO2max, moved up to 105 minutes of cycling for sessions three and four, and peaked to 120 minutes of exertion during workouts five and six--all the while remaining at the workload of 65 percent of VO2max, a traditional base intensity.\\n\\nBefore and after the base periods, all subjects completed a 30K (18.6 mi) and a 2K (1.2 mi) time trial. After the 2 weeks of base training, the time required to finish the 30K (18.6 mi) trial dropped by 10.1 percent for the sprint group and by 7.5 percent for the endurance group; this difference was not statistically significant. After the base, average power output during the 30K (18.6 mi) trial rose by 10 percent for the sprint-training group and by 6.5 percent for the endurance-training group; again, this disparity was not statistically relevant. Finishing time in the 2K (1.2 mi) test improved by 4.1 percent for the sprint group and by 3.5 percent for the endurance group; the difference was not statistically significant. Similarly, mitochondrial enzyme activity increased in both groups by essentially the same amount after the base period, and so did muscle glycogen content.\\n\\nThe high-intensity sprint group spent just 2 to 3 minutes per workout exercising at high intensity--and trained for just 18 to 27 minutes total per session with recovery time included. Meanwhile, the endurance-training group logged from 90 to 120 minutes per workout. Overall, for the whole 2-week period, those in the sprint group completed 15 minutes of quality intervals and spent only 135 minutes training, with recovery time included, in contrast to the 630 minutes of work put in by the endurance-training subjects. In effect, each minute of sprint-interval training produced the same benefits as 42 minutes of endurance training at 65 percent of \\\\(\\\\mathrm{\\\\SIUnitSymbolO}_{2}\\\\mathrm{max}\\\\).\\n\\nSince the resulting adaptations were the same, this means that sprint training was a far more efficient way to build a base. There is also a strong implication that if a few more intervals had been included in the spring training or if additional moderate-intensity work had been added to the challenging intervals, the sprint-focused base efforts would have far outstripped the endurance-based exertions in terms of the magnitudes of the resulting adaptations.\\n\\n## High-Intensity Training\\n\\nDoes Not Increase Injury\\n\\nNo evidence exists to suggest that higher-quality training heightens the risk of injury during base periods. Since total time spent training (e.g., volume) is usually the best predictor of running injury,1 a traditional, endurance-oriented base, in which distance is steadily ramped up, might be much harder on muscles and tendons than a high-intensity base.\\n\\nFootnote 1: [https://www.hdl.org/](https://www.hdl.org/)\\n\\nIndeed, the fact that sprint training is carried out in a base period does not automatically mean that the sprint work should be undertaken unwisely or excessively. The high-quality work would be modest in volume and would only gradually progress in difficulty and extent. A focus on higher-quality training would also invite neuromuscular development on board during base periods. Thus, both the neuromuscular and cardiovascular systems would be prepared for the rigors of subsequent stages of training.\\n\\n## Conclusion\\n\\nA base period is a time to get started on upgrading VO2max and the seven key physiological variables that determine performance: \\\\(t_{\\\\lim}\\\\)vVO2max, vVO2max, running economy, lactate-threshold speed, maximal running speed, resistance to fatigue, and running-specific strength. Base periods work best when they make runners fitter. When runners have higher capacities, they are able to train at higher intensities during subsequent periods of training and thus make more substantial improvements in their performance characteristics. Traditional base periods do a modest job of making runners fitter. It makes sense to replace traditional bases with foundation periods that initiate the forward progress of critical physiological variables. Base periods do not need to feature the volume included in later phases of training, but they do require an essential core of quality to optimize the training process.\\n\\nCircuit training (see chapter 13) should be a particularly effective training modality during base periods. Circuit training advances aerobic capacity, lactate threshold, running economy, and vVO2max. Its high-quality running elements enhance neuromuscular development. Circuit work also builds whole-body strength, which should promote resistance to fatigue and heightened running economy. The completion of two circuit sessions per week, along with the inclusion of some additional high-quality running on a third day, would help create an extremely productive base period that would make runners fully prepared for the demands of subsequent, challenging running-specific strength training and intense running workouts.'"
            ],
            "application/vnd.google.colaboratory.intrinsic+json": {
              "type": "string"
            }
          },
          "metadata": {},
          "execution_count": 7
        }
      ]
    },
    {
      "cell_type": "code",
      "source": [
        "!pip install transformers"
      ],
      "metadata": {
        "colab": {
          "base_uri": "https://localhost:8080/"
        },
        "id": "pDs-Ie_afppe",
        "outputId": "a2d6b321-d868-4971-a0e8-b5554e3e05d6"
      },
      "execution_count": null,
      "outputs": [
        {
          "output_type": "stream",
          "name": "stdout",
          "text": [
            "Requirement already satisfied: transformers in /usr/local/lib/python3.10/dist-packages (4.33.3)\n",
            "Requirement already satisfied: filelock in /usr/local/lib/python3.10/dist-packages (from transformers) (3.12.2)\n",
            "Requirement already satisfied: huggingface-hub<1.0,>=0.15.1 in /usr/local/lib/python3.10/dist-packages (from transformers) (0.17.3)\n",
            "Requirement already satisfied: numpy>=1.17 in /usr/local/lib/python3.10/dist-packages (from transformers) (1.23.5)\n",
            "Requirement already satisfied: packaging>=20.0 in /usr/local/lib/python3.10/dist-packages (from transformers) (23.1)\n",
            "Requirement already satisfied: pyyaml>=5.1 in /usr/local/lib/python3.10/dist-packages (from transformers) (6.0.1)\n",
            "Requirement already satisfied: regex!=2019.12.17 in /usr/local/lib/python3.10/dist-packages (from transformers) (2023.6.3)\n",
            "Requirement already satisfied: requests in /usr/local/lib/python3.10/dist-packages (from transformers) (2.31.0)\n",
            "Requirement already satisfied: tokenizers!=0.11.3,<0.14,>=0.11.1 in /usr/local/lib/python3.10/dist-packages (from transformers) (0.13.3)\n",
            "Requirement already satisfied: safetensors>=0.3.1 in /usr/local/lib/python3.10/dist-packages (from transformers) (0.3.3)\n",
            "Requirement already satisfied: tqdm>=4.27 in /usr/local/lib/python3.10/dist-packages (from transformers) (4.66.1)\n",
            "Requirement already satisfied: fsspec in /usr/local/lib/python3.10/dist-packages (from huggingface-hub<1.0,>=0.15.1->transformers) (2023.6.0)\n",
            "Requirement already satisfied: typing-extensions>=3.7.4.3 in /usr/local/lib/python3.10/dist-packages (from huggingface-hub<1.0,>=0.15.1->transformers) (4.5.0)\n",
            "Requirement already satisfied: charset-normalizer<4,>=2 in /usr/local/lib/python3.10/dist-packages (from requests->transformers) (3.2.0)\n",
            "Requirement already satisfied: idna<4,>=2.5 in /usr/local/lib/python3.10/dist-packages (from requests->transformers) (3.4)\n",
            "Requirement already satisfied: urllib3<3,>=1.21.1 in /usr/local/lib/python3.10/dist-packages (from requests->transformers) (2.0.4)\n",
            "Requirement already satisfied: certifi>=2017.4.17 in /usr/local/lib/python3.10/dist-packages (from requests->transformers) (2023.7.22)\n"
          ]
        }
      ]
    },
    {
      "cell_type": "code",
      "source": [
        "!python -m spacy download en_core_web_lg"
      ],
      "metadata": {
        "colab": {
          "base_uri": "https://localhost:8080/"
        },
        "id": "m9s28-fBtv2A",
        "outputId": "01def9a0-8292-40bd-e7f8-289aa23736ea"
      },
      "execution_count": null,
      "outputs": [
        {
          "output_type": "stream",
          "name": "stdout",
          "text": [
            "2023-09-29 15:13:54.117707: W tensorflow/compiler/tf2tensorrt/utils/py_utils.cc:38] TF-TRT Warning: Could not find TensorRT\n",
            "Collecting en-core-web-lg==3.6.0\n",
            "  Downloading https://github.com/explosion/spacy-models/releases/download/en_core_web_lg-3.6.0/en_core_web_lg-3.6.0-py3-none-any.whl (587.7 MB)\n",
            "\u001b[2K     \u001b[90m━━━━━━━━━━━━━━━━━━━━━━━━━━━━━━━━━━━━━━━\u001b[0m \u001b[32m587.7/587.7 MB\u001b[0m \u001b[31m2.1 MB/s\u001b[0m eta \u001b[36m0:00:00\u001b[0m\n",
            "\u001b[?25hRequirement already satisfied: spacy<3.7.0,>=3.6.0 in /usr/local/lib/python3.10/dist-packages (from en-core-web-lg==3.6.0) (3.6.1)\n",
            "Requirement already satisfied: spacy-legacy<3.1.0,>=3.0.11 in /usr/local/lib/python3.10/dist-packages (from spacy<3.7.0,>=3.6.0->en-core-web-lg==3.6.0) (3.0.12)\n",
            "Requirement already satisfied: spacy-loggers<2.0.0,>=1.0.0 in /usr/local/lib/python3.10/dist-packages (from spacy<3.7.0,>=3.6.0->en-core-web-lg==3.6.0) (1.0.4)\n",
            "Requirement already satisfied: murmurhash<1.1.0,>=0.28.0 in /usr/local/lib/python3.10/dist-packages (from spacy<3.7.0,>=3.6.0->en-core-web-lg==3.6.0) (1.0.9)\n",
            "Requirement already satisfied: cymem<2.1.0,>=2.0.2 in /usr/local/lib/python3.10/dist-packages (from spacy<3.7.0,>=3.6.0->en-core-web-lg==3.6.0) (2.0.7)\n",
            "Requirement already satisfied: preshed<3.1.0,>=3.0.2 in /usr/local/lib/python3.10/dist-packages (from spacy<3.7.0,>=3.6.0->en-core-web-lg==3.6.0) (3.0.8)\n",
            "Requirement already satisfied: thinc<8.2.0,>=8.1.8 in /usr/local/lib/python3.10/dist-packages (from spacy<3.7.0,>=3.6.0->en-core-web-lg==3.6.0) (8.1.12)\n",
            "Requirement already satisfied: wasabi<1.2.0,>=0.9.1 in /usr/local/lib/python3.10/dist-packages (from spacy<3.7.0,>=3.6.0->en-core-web-lg==3.6.0) (1.1.2)\n",
            "Requirement already satisfied: srsly<3.0.0,>=2.4.3 in /usr/local/lib/python3.10/dist-packages (from spacy<3.7.0,>=3.6.0->en-core-web-lg==3.6.0) (2.4.7)\n",
            "Requirement already satisfied: catalogue<2.1.0,>=2.0.6 in /usr/local/lib/python3.10/dist-packages (from spacy<3.7.0,>=3.6.0->en-core-web-lg==3.6.0) (2.0.9)\n",
            "Requirement already satisfied: typer<0.10.0,>=0.3.0 in /usr/local/lib/python3.10/dist-packages (from spacy<3.7.0,>=3.6.0->en-core-web-lg==3.6.0) (0.9.0)\n",
            "Requirement already satisfied: pathy>=0.10.0 in /usr/local/lib/python3.10/dist-packages (from spacy<3.7.0,>=3.6.0->en-core-web-lg==3.6.0) (0.10.2)\n",
            "Requirement already satisfied: smart-open<7.0.0,>=5.2.1 in /usr/local/lib/python3.10/dist-packages (from spacy<3.7.0,>=3.6.0->en-core-web-lg==3.6.0) (6.4.0)\n",
            "Requirement already satisfied: tqdm<5.0.0,>=4.38.0 in /usr/local/lib/python3.10/dist-packages (from spacy<3.7.0,>=3.6.0->en-core-web-lg==3.6.0) (4.66.1)\n",
            "Requirement already satisfied: numpy>=1.15.0 in /usr/local/lib/python3.10/dist-packages (from spacy<3.7.0,>=3.6.0->en-core-web-lg==3.6.0) (1.23.5)\n",
            "Requirement already satisfied: requests<3.0.0,>=2.13.0 in /usr/local/lib/python3.10/dist-packages (from spacy<3.7.0,>=3.6.0->en-core-web-lg==3.6.0) (2.31.0)\n",
            "Requirement already satisfied: pydantic!=1.8,!=1.8.1,<3.0.0,>=1.7.4 in /usr/local/lib/python3.10/dist-packages (from spacy<3.7.0,>=3.6.0->en-core-web-lg==3.6.0) (1.10.12)\n",
            "Requirement already satisfied: jinja2 in /usr/local/lib/python3.10/dist-packages (from spacy<3.7.0,>=3.6.0->en-core-web-lg==3.6.0) (3.1.2)\n",
            "Requirement already satisfied: setuptools in /usr/local/lib/python3.10/dist-packages (from spacy<3.7.0,>=3.6.0->en-core-web-lg==3.6.0) (67.7.2)\n",
            "Requirement already satisfied: packaging>=20.0 in /usr/local/lib/python3.10/dist-packages (from spacy<3.7.0,>=3.6.0->en-core-web-lg==3.6.0) (23.1)\n",
            "Requirement already satisfied: langcodes<4.0.0,>=3.2.0 in /usr/local/lib/python3.10/dist-packages (from spacy<3.7.0,>=3.6.0->en-core-web-lg==3.6.0) (3.3.0)\n",
            "Requirement already satisfied: typing-extensions>=4.2.0 in /usr/local/lib/python3.10/dist-packages (from pydantic!=1.8,!=1.8.1,<3.0.0,>=1.7.4->spacy<3.7.0,>=3.6.0->en-core-web-lg==3.6.0) (4.5.0)\n",
            "Requirement already satisfied: charset-normalizer<4,>=2 in /usr/local/lib/python3.10/dist-packages (from requests<3.0.0,>=2.13.0->spacy<3.7.0,>=3.6.0->en-core-web-lg==3.6.0) (3.2.0)\n",
            "Requirement already satisfied: idna<4,>=2.5 in /usr/local/lib/python3.10/dist-packages (from requests<3.0.0,>=2.13.0->spacy<3.7.0,>=3.6.0->en-core-web-lg==3.6.0) (3.4)\n",
            "Requirement already satisfied: urllib3<3,>=1.21.1 in /usr/local/lib/python3.10/dist-packages (from requests<3.0.0,>=2.13.0->spacy<3.7.0,>=3.6.0->en-core-web-lg==3.6.0) (2.0.4)\n",
            "Requirement already satisfied: certifi>=2017.4.17 in /usr/local/lib/python3.10/dist-packages (from requests<3.0.0,>=2.13.0->spacy<3.7.0,>=3.6.0->en-core-web-lg==3.6.0) (2023.7.22)\n",
            "Requirement already satisfied: blis<0.8.0,>=0.7.8 in /usr/local/lib/python3.10/dist-packages (from thinc<8.2.0,>=8.1.8->spacy<3.7.0,>=3.6.0->en-core-web-lg==3.6.0) (0.7.10)\n",
            "Requirement already satisfied: confection<1.0.0,>=0.0.1 in /usr/local/lib/python3.10/dist-packages (from thinc<8.2.0,>=8.1.8->spacy<3.7.0,>=3.6.0->en-core-web-lg==3.6.0) (0.1.2)\n",
            "Requirement already satisfied: click<9.0.0,>=7.1.1 in /usr/local/lib/python3.10/dist-packages (from typer<0.10.0,>=0.3.0->spacy<3.7.0,>=3.6.0->en-core-web-lg==3.6.0) (8.1.7)\n",
            "Requirement already satisfied: MarkupSafe>=2.0 in /usr/local/lib/python3.10/dist-packages (from jinja2->spacy<3.7.0,>=3.6.0->en-core-web-lg==3.6.0) (2.1.3)\n",
            "Installing collected packages: en-core-web-lg\n",
            "Successfully installed en-core-web-lg-3.6.0\n",
            "\u001b[38;5;2m✔ Download and installation successful\u001b[0m\n",
            "You can now load the package via spacy.load('en_core_web_lg')\n"
          ]
        }
      ]
    },
    {
      "cell_type": "code",
      "source": [
        "from typing import List\n",
        "\n",
        "import spacy\n",
        "\n",
        "# nlp = spacy.load(\"en_core_web_sm\")\n",
        "nlp = spacy.load(\"en_core_web_lg\")\n",
        "\n",
        "\n",
        "# def remove_stop_words(text: str) -> str:\n",
        "#     doc = nlp(text)\n",
        "#     text_parts = [token.text for token in doc if not token.is_stop]\n",
        "#     return \" \".join(text_parts)\n",
        "\n",
        "\n",
        "def split_sentences(text: str) -> List[str]:\n",
        "    doc = nlp(text)\n",
        "    sentences = [sent.text for sent in doc.sents]\n",
        "    return sentences\n",
        "\n",
        "\n",
        "def group_sentences_semantically(sentences: List[str], threshold: float) -> List[str]:\n",
        "    docs = [nlp(sentence) for sentence in sentences]\n",
        "    segments = []\n",
        "\n",
        "    start_idx = 0\n",
        "    end_idx = 1\n",
        "    segment = [sentences[start_idx]]\n",
        "\n",
        "    while end_idx < len(docs):\n",
        "        if docs[start_idx].similarity(docs[end_idx]) >= threshold:\n",
        "            segment.append(sentences[end_idx])\n",
        "        else:\n",
        "            segments.append(\" \".join(segment))\n",
        "            start_idx = end_idx\n",
        "            segment = [sentences[start_idx]]\n",
        "\n",
        "        end_idx += 1\n",
        "\n",
        "    if segment:\n",
        "        segments.append(\" \".join(segment))\n",
        "\n",
        "    return segments\n",
        "\n",
        "\n",
        "def split_text(text: str) -> List[str]:\n",
        "    # text = remove_stop_words(text)\n",
        "    sentences = split_sentences(text)\n",
        "\n",
        "    return group_sentences_semantically(sentences, 0.9)\n"
      ],
      "metadata": {
        "id": "E-OM636mttiz"
      },
      "execution_count": null,
      "outputs": []
    },
    {
      "cell_type": "code",
      "source": [
        "chunks = split_text(content)"
      ],
      "metadata": {
        "id": "ioN4cKVyvEWk"
      },
      "execution_count": null,
      "outputs": []
    },
    {
      "cell_type": "code",
      "source": [
        "print(len(chunks))\n",
        "max_length = max(len(s) for s in chunks)\n",
        "print(max_length)\n"
      ],
      "metadata": {
        "colab": {
          "base_uri": "https://localhost:8080/"
        },
        "id": "NYaZOXu5vTLi",
        "outputId": "9f6d66fa-a2fb-4501-e76e-c766882d2395"
      },
      "execution_count": null,
      "outputs": [
        {
          "output_type": "stream",
          "name": "stdout",
          "text": [
            "118\n",
            "778\n"
          ]
        }
      ]
    },
    {
      "cell_type": "code",
      "source": [
        "print(chunks[80])\n",
        "print(chunks[13])\n",
        "print(chunks[27])\n",
        "print(chunks[76])\n",
        "print(chunks[7])"
      ],
      "metadata": {
        "colab": {
          "base_uri": "https://localhost:8080/"
        },
        "id": "xrAu9C_mxS9f",
        "outputId": "64c7bd11-1b19-42f0-d7bc-a38f5bbb1cde"
      },
      "execution_count": null,
      "outputs": [
        {
          "output_type": "stream",
          "name": "stdout",
          "text": [
            "With their emphasis on increased volume, traditional base periods may actually increase injury rates.\n",
            "\n",
            "\n",
            "Coach Arthur Lydiard was also a proponent of base periods that keep intensity at a moderate level while gradually increasing mileage.[4]\n",
            "Although new capillary growth is often considered to be one of the slower adaptive processes associated with endurance training, an interesting finding was that capillaries began to proliferate _around_ muscles even before the sinews exhibited increased concentrations of _intracellular_\n",
            "It's clear from such research that traditional base training is an inefficient way to build an aerobic base, that is, to expand VO2max.\n",
            "\n",
            "## 4 Comparing High-Intensity and Traditional Base Training\n",
            "\n",
            "It might be argued that conventional base training is nonetheless an effective way to boost running strength and thus decrease the risk of subsequent injury during more intense phases of training, but this contention ignores the fact that the strength gained in training is always velocity specific.[11]\n",
            "They recommend a base training intensity of between 55 and 75 percent of VO2max, which would be well below marathon pace for most runners, and they even provide a method for runners to use to determine whether their training speeds fall within this range of intensities. Martin and Coe caution against running faster than 75 percent of VO2max during a base period because such effort \"causes the beginning of anaerobic glycolytic activity, which may mark the beginning of lactic-acid accumulation that is not appropriate for training emphasis in this zone.\"\n"
          ]
        }
      ]
    },
    {
      "cell_type": "code",
      "source": [
        "from typing import List\n",
        "import torch\n",
        "import spacy\n",
        "from transformers import LEDForConditionalGeneration, LEDTokenizer\n",
        "\n",
        "nlp = spacy.load(\"en_core_web_lg\")\n",
        "\n",
        "\n",
        "def initial_chunking(text, tokenizer, max_length=256):\n",
        "    words = text.split(' ')\n",
        "    chunks = []\n",
        "    chunk = \"\"\n",
        "\n",
        "    for word in words:\n",
        "        temp_chunk = f\"{chunk} {word}\"\n",
        "        temp_ids = tokenizer.encode(temp_chunk)\n",
        "\n",
        "        if len(temp_ids) < max_length:\n",
        "            chunk = temp_chunk\n",
        "        else:\n",
        "            chunks.append(chunk)\n",
        "            chunk = word\n",
        "\n",
        "    chunks.append(chunk)\n",
        "    return chunks\n",
        "\n",
        "\n",
        "def split_sentences(text: str) -> List[str]:\n",
        "    document = nlp(text)\n",
        "    return [sent.text for sent in document.sents]\n",
        "\n",
        "\n",
        "def group_sentences_with_overlap(sentences: List[str], size: int, overlap: int) -> List[str]:\n",
        "    groups = []\n",
        "    sentence_index = 0\n",
        "\n",
        "    while sentence_index + size < len(sentences):\n",
        "        groups.append(\" \".join(sentences[sentence_index:sentence_index + size]))\n",
        "        sentence_index += (size - overlap)\n",
        "\n",
        "    return groups\n",
        "\n",
        "\n",
        "def summarize(chunk, model, tokenizer, max_length):\n",
        "    segments = []\n",
        "    input_ids = tokenizer(chunk, return_tensors=\"pt\").input_ids.to(\"cuda\")\n",
        "    global_attention_mask = torch.zeros_like(input_ids)\n",
        "    global_attention_mask[:, 0] = 1\n",
        "\n",
        "    sequences = model.generate(input_ids, global_attention_mask=global_attention_mask)\n",
        "    summary = tokenizer.batch_decode(sequences)\n",
        "    segments.append(summary)\n",
        "\n",
        "    return segments\n",
        "\n",
        "# Initialize Longformer tokenizer and model\n",
        "# allenai/led-large-16384-arxiv\n",
        "# patrickvonplaten/led-large-16384-pubmed\n",
        "\n",
        "longformer_tokenizer = LEDTokenizer.from_pretrained('patrickvonplaten/led-large-16384-pubmed')\n",
        "longformer_model = LEDForConditionalGeneration.from_pretrained('patrickvonplaten/led-large-16384-pubmed').to(\"cuda\")\n",
        "\n",
        "sentences = split_sentences(content)\n",
        "groups = group_sentences_with_overlap(sentences, 5, 2)\n",
        "chunk = summarize(groups[0], longformer_model, longformer_tokenizer, 1024)\n"
      ],
      "metadata": {
        "id": "WJnfmfvUKFv1"
      },
      "execution_count": null,
      "outputs": []
    },
    {
      "cell_type": "code",
      "source": [
        "print(len(groups))\n",
        "max_length = max(len(s) for s in groups)\n",
        "print(max_length)\n"
      ],
      "metadata": {
        "colab": {
          "base_uri": "https://localhost:8080/"
        },
        "id": "A86l2ZHROZZc",
        "outputId": "db12c34d-4bda-45f7-a3d8-03c29cfeff1b"
      },
      "execution_count": null,
      "outputs": [
        {
          "output_type": "stream",
          "name": "stdout",
          "text": [
            "45\n",
            "1268\n"
          ]
        }
      ]
    },
    {
      "cell_type": "code",
      "source": [
        "chunk"
      ],
      "metadata": {
        "colab": {
          "base_uri": "https://localhost:8080/"
        },
        "id": "vP1moeQ2Qb_2",
        "outputId": "1f8df69c-c40e-4f25-e536-404d60346d6a"
      },
      "execution_count": null,
      "outputs": [
        {
          "output_type": "execute_result",
          "data": {
            "text/plain": [
              "[['</s><s><s> easy running is thought to provide a foundation of strength and serve as an upgrade of aerobic fitness that helps smooth the transition into higher-quality effort. \\n however, evidence shows that this traditional approach and its alleged benefits may not be optimal for improving VO2max and running-specific strength. in this article \\n, we review the literature on the benefits of easy running in terms of increasing running strength, aerobic capacity, and fitness prior to embarking on a rigorous training program. </s>']]"
            ]
          },
          "metadata": {},
          "execution_count": 24
        }
      ]
    },
    {
      "cell_type": "code",
      "source": [],
      "metadata": {
        "id": "vWbJy_lCt7sP"
      },
      "execution_count": null,
      "outputs": []
    }
  ],
  "metadata": {
    "accelerator": "GPU",
    "colab": {
      "gpuType": "A100",
      "provenance": [],
      "machine_shape": "hm"
    },
    "kernelspec": {
      "display_name": "Python 3",
      "name": "python3"
    },
    "language_info": {
      "codemirror_mode": {
        "name": "ipython",
        "version": 3
      },
      "file_extension": ".py",
      "mimetype": "text/x-python",
      "name": "python",
      "nbconvert_exporter": "python",
      "pygments_lexer": "ipython3",
      "version": "3.9.16"
    }
  },
  "nbformat": 4,
  "nbformat_minor": 0
}